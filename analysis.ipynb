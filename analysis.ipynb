{
 "cells": [
  {
   "cell_type": "markdown",
   "metadata": {},
   "source": [
    "# ML project on the Stock Prices, Splits and Dividends of MSFT and AAPL"
   ]
  },
  {
   "cell_type": "markdown",
   "metadata": {},
   "source": [
    "Made by Mohamed Jad Kabbaj, Nathan Novier and Pavel-Dan Diaconu"
   ]
  },
  {
   "cell_type": "code",
   "execution_count": null,
   "metadata": {},
   "outputs": [
    {
     "name": "stdout",
     "output_type": "stream",
     "text": [
      "Requirement already satisfied: pandas in c:\\users\\33668\\appdata\\local\\programs\\python\\python312\\lib\\site-packages (2.2.3)\n",
      "Requirement already satisfied: numpy>=1.26.0 in c:\\users\\33668\\appdata\\local\\programs\\python\\python312\\lib\\site-packages (from pandas) (1.26.4)\n",
      "Requirement already satisfied: python-dateutil>=2.8.2 in c:\\users\\33668\\appdata\\roaming\\python\\python312\\site-packages (from pandas) (2.9.0.post0)\n",
      "Requirement already satisfied: pytz>=2020.1 in c:\\users\\33668\\appdata\\local\\programs\\python\\python312\\lib\\site-packages (from pandas) (2024.2)\n",
      "Requirement already satisfied: tzdata>=2022.7 in c:\\users\\33668\\appdata\\local\\programs\\python\\python312\\lib\\site-packages (from pandas) (2024.2)\n",
      "Requirement already satisfied: six>=1.5 in c:\\users\\33668\\appdata\\roaming\\python\\python312\\site-packages (from python-dateutil>=2.8.2->pandas) (1.16.0)\n",
      "Note: you may need to restart the kernel to use updated packages.\n"
     ]
    },
    {
     "name": "stderr",
     "output_type": "stream",
     "text": [
      "\n",
      "[notice] A new release of pip is available: 24.0 -> 24.3.1\n",
      "[notice] To update, run: python.exe -m pip install --upgrade pip\n"
     ]
    }
   ],
   "source": [
    "%pip install pandas mljar-supervised scikit-learn"
   ]
  },
  {
   "cell_type": "code",
   "execution_count": null,
   "metadata": {},
   "outputs": [],
   "source": [
    "import pandas as pd\n",
    "import numpy as np\n",
    "from supervised.automl import AutoML\n",
    "from sklearn.metrics import mean_absolute_error, mean_squared_error, accuracy_score, classification_report\n",
    "\n",
    "def prepare_data(price_file, dividend_file, split_file):\n",
    "\n",
    "    price_data = pd.read_csv(price_file)\n",
    "    dividend_data = pd.read_csv(dividend_file)\n",
    "    split_data = pd.read_csv(split_file)\n",
    "    \n",
    "    # Used try except because I had errors with the date format\n",
    "    try:\n",
    "        price_data['Date'] = pd.to_datetime(price_data['Date'], utc=True).dt.tz_localize(None)\n",
    "        dividend_data['Date'] = pd.to_datetime(dividend_data['Date'], utc=True).dt.tz_localize(None)\n",
    "        split_data['Date'] = pd.to_datetime(split_data['Date'], utc=True).dt.tz_localize(None)\n",
    "    except Exception as e:\n",
    "        print(f\"Error converting dates: {e}\")\n",
    "        print(\"Input date format samples:\")\n",
    "        print(f\"Price data: {price_data['Date'].iloc[0]}\")\n",
    "        print(f\"Dividend data: {dividend_data['Date'].iloc[0]}\")\n",
    "        print(f\"Split data: {split_data['Date'].iloc[0]}\")\n",
    "        raise\n",
    "    \n",
    "    # Merge all the DataFrames\n",
    "    data = pd.merge(price_data, dividend_data[['Date', 'Dividend']], on='Date', how='left')\n",
    "    \n",
    "    # Ensure 'Date' in 'data' is datetime64[ns] after the first merge\n",
    "    data['Date'] = pd.to_datetime(data['Date'], errors='coerce').dt.tz_localize(None)\n",
    "    \n",
    "    data = pd.merge(data, split_data[['Date', 'Stock Splits']], on='Date', how='left')\n",
    "    \n",
    "    # Value cleaning\n",
    "    data['Dividend'] = data['Dividend'].fillna(0)\n",
    "    data['Stock Splits'] = data['Stock Splits'].fillna(0)\n",
    "    data = data.sort_values('Date').reset_index(drop=True)\n",
    "    data['Next Close Price'] = data['Close Price'].shift(-1)\n",
    "    data['Target'] = (data['Next Close Price'] > data['Close Price']).astype(int)\n",
    "    data['Prev Close Price'] = data['Close Price'].shift(1)\n",
    "    data['Prev Volume'] = data['Volume'].shift(1)\n",
    "    # Add MA5, MA10, MA20\n",
    "    data['MA5'] = data['Close Price'].rolling(window=5).mean()\n",
    "    data['MA10'] = data['Close Price'].rolling(window=10).mean()\n",
    "    data['MA20'] = data['Close Price'].rolling(window=20).mean()\n",
    "    data = data.dropna().reset_index(drop=True)\n",
    "    \n",
    "    return data\n"
   ]
  },
  {
   "cell_type": "code",
   "execution_count": null,
   "metadata": {},
   "outputs": [],
   "source": [
    "def perform_ml_analysis(stock_name, data):\n",
    "    # Define features and targets\n",
    "    features = ['Open Price', 'High Price', 'Low Price', 'Close Price', 'Volume', 'Dividend', 'Stock Splits',\n",
    "                'MA5', 'MA10', 'MA20', 'Prev Close Price', 'Prev Volume']\n",
    "    X = data[features]\n",
    "    y_reg = data['Next Close Price']\n",
    "    y_class = data['Target']\n",
    "    \n",
    "    # Split data into training and testing sets\n",
    "    train_size = int(len(data) * 0.8)\n",
    "    X_train, X_test = X.iloc[:train_size], X.iloc[train_size:]\n",
    "    y_train_reg, y_test_reg = y_reg.iloc[:train_size], y_reg.iloc[train_size:]\n",
    "    y_train_class, y_test_class = y_class.iloc[:train_size], y_class.iloc[train_size:]\n",
    "    \n",
    "    print(f\"\\nStarting ML analysis for {stock_name}...\\n\")\n",
    "    \n",
    "    # Regression Analysis\n",
    "    automl_reg = AutoML(mode='Perform', ml_task='regression')\n",
    "    automl_reg.fit(X_train, y_train_reg)\n",
    "    predictions_reg = automl_reg.predict(X_test)\n",
    "    \n",
    "    # Evaluate regression model\n",
    "    mae = mean_absolute_error(y_test_reg, predictions_reg)\n",
    "    mse = mean_squared_error(y_test_reg, predictions_reg)\n",
    "    rmse = np.sqrt(mse)\n",
    "    \n",
    "    print(f\"Regression Model Performance for {stock_name}:\")\n",
    "    print(f\"MAE: {mae:.4f}\")\n",
    "    print(f\"MSE: {mse:.4f}\")\n",
    "    print(f\"RMSE: {rmse:.4f}\\n\")\n",
    "    \n",
    "    # Classification Analysis\n",
    "    automl_class = AutoML(mode='Perform', ml_task='binary_classification')\n",
    "    automl_class.fit(X_train, y_train_class)\n",
    "    predictions_class = automl_class.predict(X_test)\n",
    "    \n",
    "    # Evaluate classification model\n",
    "    accuracy = accuracy_score(y_test_class, predictions_class)\n",
    "    print(f\"Classification Model Performance for {stock_name}:\")\n",
    "    print(f\"Accuracy: {accuracy:.4f}\")\n",
    "    print(classification_report(y_test_class, predictions_class))"
   ]
  },
  {
   "cell_type": "code",
   "execution_count": null,
   "metadata": {},
   "outputs": [],
   "source": [
    "aapl_data = prepare_data('data/AAPL_stock_price.csv', 'data/AAPL_stock_dividend.csv', 'data/AAPL_stock_split.csv')\n",
    "perform_ml_analysis('AAPL', aapl_data)"
   ]
  },
  {
   "cell_type": "markdown",
   "metadata": {},
   "source": [
    "# After running the code for a few hours (it took a lot of time...) Here are the results!!!"
   ]
  },
  {
   "cell_type": "markdown",
   "metadata": {},
   "source": [
    "# Results for Regression for AAPL folder AutoML_1:\n",
    "Regression Model Performance for AAPL:\n",
    "MAE: 3.6095\n",
    "MSE: 135.8301\n",
    "RMSE: 11.6546"
   ]
  },
  {
   "cell_type": "markdown",
   "metadata": {},
   "source": [
    "# Results for Classification for AAPL folder AutoML_2:\n",
    "Classification Model Performance for AAPL:\n",
    "Accuracy: 0.4948\n",
    "\n",
    "|           | precision | recall | f1-score | support |\n",
    "|-----------|-----------|--------|----------|---------|\n",
    "|         0 |      0.46 |   0.52 |     0.49 |     586 |\n",
    "|         1 |      0.53 |   0.47 |     0.50 |     667 |\n",
    "| accuracy  |           |        |     0.49 |    1253 |\n",
    "| macro avg |      0.50 |   0.50 |     0.49 |    1253 |\n",
    "| weighted avg |  0.50 |   0.49 |     0.50 |    1253 |\n"
   ]
  },
  {
   "cell_type": "code",
   "execution_count": null,
   "metadata": {},
   "outputs": [],
   "source": [
    "msft_data = prepare_data('data/MSFT_stock_price.csv', 'data/MSFT_stock_dividend.csv', 'data/MSFT_stock_split.csv')\n",
    "perform_ml_analysis('MSFT', msft_data)"
   ]
  },
  {
   "cell_type": "markdown",
   "metadata": {},
   "source": [
    "# Results Regression for MSFT folder AutoML_3:\n",
    "Regression Model Performance for MSFT:\n",
    "MAE: 146.1470\n",
    "MSE: 27707.5336\n",
    "RMSE: 166.4558"
   ]
  },
  {
   "cell_type": "markdown",
   "metadata": {},
   "source": [
    "# Results for Classification for MSFT folder AutoML_4:\n",
    "Classification Model Performance for MSFT:\n",
    "Accuracy: 0.4757\n",
    "\n",
    "|           | precision | recall | f1-score | support |\n",
    "|-----------|-----------|--------|----------|---------|\n",
    "|         0 |      0.47 |   1.00 |     0.64 |     592 |\n",
    "|         1 |      0.75 |   0.01 |     0.02 |     661 |\n",
    "| accuracy  |           |        |     0.48 |    1253 |\n",
    "| macro avg |      0.61 |   0.50 |     0.33 |    1253 |\n",
    "| weighted avg |  0.62 |   0.48 |     0.31 |    1253 |\n"
   ]
  },
  {
   "cell_type": "markdown",
   "metadata": {},
   "source": [
    "# After checking all the predictions.csv, Linear model performed always better!"
   ]
  }
 ],
 "metadata": {
  "kernelspec": {
   "display_name": "Python 3",
   "language": "python",
   "name": "python3"
  },
  "language_info": {
   "codemirror_mode": {
    "name": "ipython",
    "version": 3
   },
   "file_extension": ".py",
   "mimetype": "text/x-python",
   "name": "python",
   "nbconvert_exporter": "python",
   "pygments_lexer": "ipython3",
   "version": "3.12.4"
  }
 },
 "nbformat": 4,
 "nbformat_minor": 2
}
